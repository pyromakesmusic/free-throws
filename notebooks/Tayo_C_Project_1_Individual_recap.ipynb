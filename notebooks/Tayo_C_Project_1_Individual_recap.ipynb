{
  "nbformat": 4,
  "nbformat_minor": 0,
  "metadata": {
    "colab": {
      "provenance": []
    },
    "kernelspec": {
      "name": "python3",
      "display_name": "Python 3"
    },
    "language_info": {
      "name": "python"
    }
  },
  "cells": [
    {
      "cell_type": "markdown",
      "source": [
        "# Project 1\n",
        "\n",
        "Tayo Castro"
      ],
      "metadata": {
        "id": "ZQK9fmeKm1Db"
      }
    },
    {
      "cell_type": "markdown",
      "source": [
        "## Accomplishments\n",
        "\n",
        "On this project, I took responsibility for the questions about how player shot performance is correlated with minutes left in the game, and about which players were the most consistent in all situations.\n",
        "\n",
        "I added some graphs relating to those things, performed minor visual and grammatical edits on the final presentation, and focused on providing support to my team members in terms of Python knowledge."
      ],
      "metadata": {
        "id": "phaiv-TQm4RF"
      }
    },
    {
      "cell_type": "markdown",
      "source": [
        "## General thoughts\n",
        "\n",
        "I feel like the project went well. I would have liked to have had more time to do deeper analysis, adjust my graphs to be more consistent and more readable, and answer some questions through research that would have helped to interpret and provide more context to the data, but I feel like the teamwork was strong and we coordinated well."
      ],
      "metadata": {
        "id": "2IdsGBmhnDog"
      }
    },
    {
      "cell_type": "markdown",
      "source": [
        "## Self-rating\n",
        "\n",
        "- Meets expectations\n"
      ],
      "metadata": {
        "id": "jzjDEGQAnVyo"
      }
    },
    {
      "cell_type": "markdown",
      "source": [
        "Explanation:\n",
        "\n",
        "I contributed very effectively when I was able to devote time to it, but the amount of time or final contribution I put into the project wasn't at what I would call \"exceeds expectations\" level."
      ],
      "metadata": {
        "id": "b7QJcr0KDXST"
      }
    },
    {
      "cell_type": "markdown",
      "source": [
        "Your grade:\n",
        "\n",
        "I think I deserve a 93 for my personal contribution to this project."
      ],
      "metadata": {
        "id": "E-mvQk37DbqW"
      }
    },
    {
      "cell_type": "code",
      "execution_count": null,
      "metadata": {
        "id": "cIkjlE1CmvXb"
      },
      "outputs": [],
      "source": []
    }
  ]
}